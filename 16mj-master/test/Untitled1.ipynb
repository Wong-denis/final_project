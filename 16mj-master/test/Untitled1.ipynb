{
 "cells": [
  {
   "cell_type": "code",
   "execution_count": 14,
   "metadata": {},
   "outputs": [
    {
     "name": "stdout",
     "output_type": "stream",
     "text": [
      "12\n",
      "throw: [1, 6, 8, 11, 13, 17, 19, 21, 23, 27]\n",
      "\n",
      "keep_l: [3, 4]\n",
      "12\n"
     ]
    }
   ],
   "source": [
    "pi = [1,3,4,6,8,11,13,17,19,21,23,27]\n",
    "print(len(pi))\n",
    "throw_l = pi[:]\n",
    "keep_l = []        \n",
    "for i in range(len(pi)-1):\n",
    "    if pi[i] == pi[i+1] and pi[i] not in keep_l :\n",
    "        keep_l.append(pi[i])\n",
    "        keep_l.append(pi[i+1])\n",
    "        throw_l.remove(pi[i])\n",
    "        throw_l.remove(pi[i+1])\n",
    "    elif pi[i] == pi[i+1] and pi[i] in keep_l :\n",
    "        keep_l.append(pi[i+1])\n",
    "        throw_l.remove(pi[i+1])\n",
    "    elif pi[i]+1 == pi[i+1] and pi[i] not in keep_l :\n",
    "        keep_l.append(pi[i])\n",
    "        keep_l.append(pi[i+1])\n",
    "        throw_l.remove(pi[i])\n",
    "        throw_l.remove(pi[i+1])\n",
    "    elif pi[i]+1 == pi[i+1] and pi[i] in keep_l :\n",
    "        keep_l.append(pi[i+1])\n",
    "        throw_l.remove(pi[i+1])\n",
    "print(f\"throw: {throw_l}\\n\")\n",
    "print(f\"keep_l: {keep_l}\")\n",
    "\n",
    "print(len(keep_l+throw_l))        "
   ]
  },
  {
   "cell_type": "code",
   "execution_count": 10,
   "metadata": {},
   "outputs": [
    {
     "ename": "AttributeError",
     "evalue": "'set' object has no attribute 'get'",
     "output_type": "error",
     "traceback": [
      "\u001b[1;31m---------------------------------------------------------------------------\u001b[0m",
      "\u001b[1;31mAttributeError\u001b[0m                            Traceback (most recent call last)",
      "\u001b[1;32m<ipython-input-10-52edddddbeca>\u001b[0m in \u001b[0;36m<module>\u001b[1;34m\u001b[0m\n\u001b[0;32m      1\u001b[0m \u001b[0mpi\u001b[0m \u001b[1;33m=\u001b[0m \u001b[1;33m[\u001b[0m\u001b[1;36m1\u001b[0m\u001b[1;33m,\u001b[0m\u001b[1;36m2\u001b[0m\u001b[1;33m,\u001b[0m\u001b[1;36m2\u001b[0m\u001b[1;33m,\u001b[0m\u001b[1;36m3\u001b[0m\u001b[1;33m,\u001b[0m\u001b[1;36m3\u001b[0m\u001b[1;33m,\u001b[0m\u001b[1;36m5\u001b[0m\u001b[1;33m,\u001b[0m\u001b[1;36m6\u001b[0m\u001b[1;33m,\u001b[0m\u001b[1;36m6\u001b[0m\u001b[1;33m,\u001b[0m\u001b[1;36m7\u001b[0m\u001b[1;33m,\u001b[0m\u001b[1;36m9\u001b[0m\u001b[1;33m,\u001b[0m\u001b[1;36m11\u001b[0m\u001b[1;33m,\u001b[0m\u001b[1;36m13\u001b[0m\u001b[1;33m,\u001b[0m\u001b[1;36m13\u001b[0m\u001b[1;33m]\u001b[0m\u001b[1;33m\u001b[0m\u001b[1;33m\u001b[0m\u001b[0m\n\u001b[0;32m      2\u001b[0m \u001b[0mpi_set\u001b[0m \u001b[1;33m=\u001b[0m \u001b[0mset\u001b[0m\u001b[1;33m(\u001b[0m\u001b[0mpi\u001b[0m\u001b[1;33m)\u001b[0m\u001b[1;33m\u001b[0m\u001b[1;33m\u001b[0m\u001b[0m\n\u001b[1;32m----> 3\u001b[1;33m \u001b[0mprint\u001b[0m\u001b[1;33m(\u001b[0m\u001b[0mpi_set\u001b[0m\u001b[1;33m.\u001b[0m\u001b[0mget\u001b[0m\u001b[1;33m(\u001b[0m\u001b[1;33m)\u001b[0m\u001b[1;33m)\u001b[0m\u001b[1;33m\u001b[0m\u001b[1;33m\u001b[0m\u001b[0m\n\u001b[0m",
      "\u001b[1;31mAttributeError\u001b[0m: 'set' object has no attribute 'get'"
     ]
    }
   ],
   "source": [
    "pi = [1,2,2,3,3,5,6,6,7,9,11,13,13]\n",
    "pi_set = set(pi)\n",
    "print(pi_set.get())"
   ]
  },
  {
   "cell_type": "code",
   "execution_count": 5,
   "metadata": {},
   "outputs": [
    {
     "ename": "RuntimeError",
     "evalue": "Can't seek in stream",
     "output_type": "error",
     "traceback": [
      "\u001b[1;31m---------------------------------------------------------------------------\u001b[0m",
      "\u001b[1;31mRuntimeError\u001b[0m                              Traceback (most recent call last)",
      "\u001b[1;32m<ipython-input-5-d176ae67bf71>\u001b[0m in \u001b[0;36m<module>\u001b[1;34m\u001b[0m\n\u001b[0;32m     22\u001b[0m \u001b[0mscreen\u001b[0m\u001b[1;33m.\u001b[0m\u001b[0mblit\u001b[0m\u001b[1;33m(\u001b[0m\u001b[0mbackground\u001b[0m\u001b[1;33m,\u001b[0m \u001b[1;33m(\u001b[0m\u001b[1;36m0\u001b[0m\u001b[1;33m,\u001b[0m \u001b[1;36m0\u001b[0m\u001b[1;33m)\u001b[0m\u001b[1;33m)\u001b[0m\u001b[1;33m\u001b[0m\u001b[1;33m\u001b[0m\u001b[0m\n\u001b[0;32m     23\u001b[0m \u001b[1;33m\u001b[0m\u001b[0m\n\u001b[1;32m---> 24\u001b[1;33m \u001b[0mfont\u001b[0m \u001b[1;33m=\u001b[0m \u001b[0mpygame\u001b[0m\u001b[1;33m.\u001b[0m\u001b[0mfont\u001b[0m\u001b[1;33m.\u001b[0m\u001b[0mFont\u001b[0m\u001b[1;33m(\u001b[0m\u001b[1;34m\"ball.png\"\u001b[0m\u001b[1;33m,\u001b[0m \u001b[1;36m24\u001b[0m\u001b[1;33m)\u001b[0m\u001b[1;31m#本文主角\u001b[0m\u001b[1;33m\u001b[0m\u001b[1;33m\u001b[0m\u001b[0m\n\u001b[0m\u001b[0;32m     25\u001b[0m \u001b[1;33m\u001b[0m\u001b[0m\n\u001b[0;32m     26\u001b[0m \u001b[0mpygame\u001b[0m\u001b[1;33m.\u001b[0m\u001b[0mdisplay\u001b[0m\u001b[1;33m.\u001b[0m\u001b[0mupdate\u001b[0m\u001b[1;33m(\u001b[0m\u001b[1;33m)\u001b[0m\u001b[1;33m\u001b[0m\u001b[1;33m\u001b[0m\u001b[0m\n",
      "\u001b[1;31mRuntimeError\u001b[0m: Can't seek in stream"
     ]
    }
   ],
   "source": [
    "import pygame\n",
    "\n",
    "def show_text(text, x, y):#專門顯示文字的方法，除了顯示文字還能指定顯示的位置\n",
    "    x = x\n",
    "    y = y\n",
    "    text = font.render(text, True, (255, 255, 255))\n",
    "    screen.blit(text, (x, y))\n",
    "    pygame.display.update()\n",
    "\n",
    "pygame.init()\n",
    "\n",
    "version = \" v0.0.0\"\n",
    "pygame.display.set_caption(\"test\" + version)\n",
    "\n",
    "clock = pygame.time.Clock()\n",
    "\n",
    "screen = pygame.display.set_mode((800, 600))\n",
    "\n",
    "background = pygame.Surface(screen.get_size())\n",
    "background = background.convert()\n",
    "background.fill((125, 125, 125))\n",
    "screen.blit(background, (0, 0))\n",
    "\n",
    "font = pygame.font.Font(\"Fonts/msjh.ttc\", 24)#本文主角\n",
    "\n",
    "pygame.display.update()\n",
    "\n",
    "running = True\n",
    "run_opening = True\n",
    "while running:\n",
    "    \n",
    "    clock.tick(30)\n",
    "    for event in pygame.event.get():\n",
    "        if event.type == pygame.QUIT:\n",
    "            running = False\n",
    "        \n",
    "    if run_opening:\n",
    "        op_background = pygame.Surface(screen.get_size())\n",
    "        op_background = op_background.convert()\n",
    "        op_background.fill((0, 0, 0))\n",
    "        screen.blit(op_background, (0, 0))\n",
    "        \n",
    "        text = \"中文中文abc123\"#文字顯示內容在此，根本用不著u\n",
    "        show_text(text, 100, 0)#使用show_text()\n",
    "        \n",
    "        pygame.display.update()\n",
    "        \n",
    "pygame.quit()"
   ]
  },
  {
   "cell_type": "code",
   "execution_count": null,
   "metadata": {},
   "outputs": [],
   "source": []
  }
 ],
 "metadata": {
  "kernelspec": {
   "display_name": "Python 3",
   "language": "python",
   "name": "python3"
  },
  "language_info": {
   "codemirror_mode": {
    "name": "ipython",
    "version": 3
   },
   "file_extension": ".py",
   "mimetype": "text/x-python",
   "name": "python",
   "nbconvert_exporter": "python",
   "pygments_lexer": "ipython3",
   "version": "3.7.3"
  }
 },
 "nbformat": 4,
 "nbformat_minor": 2
}
