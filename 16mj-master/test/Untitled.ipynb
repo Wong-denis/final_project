{
 "cells": [
  {
   "cell_type": "code",
   "execution_count": 2,
   "metadata": {},
   "outputs": [
    {
     "ename": "SystemExit",
     "evalue": "",
     "output_type": "error",
     "traceback": [
      "An exception has occurred, use %tb to see the full traceback.\n",
      "\u001b[1;31mSystemExit\u001b[0m\n"
     ]
    }
   ],
   "source": [
    "import pygame\n",
    "import sys\n",
    "\n",
    "pygame.init()  # 初始化pygame\n",
    "size = width, height = 640, 480  # 設定視窗大小\n",
    "screen = pygame.display.set_mode(size)  # 顯示視窗\n",
    "color = (0, 0, 0)  # 設定顏色\n",
    "ball = pygame.image.load('ball.png')  # 載入圖片\n",
    "ballrect = ball.get_rect()  # 獲取矩形區域\n",
    "\n",
    "while True:  # 死迴圈確保視窗一直顯示\n",
    "    for event in pygame.event.get():  # 遍歷所有事件\n",
    "        if event.type == pygame.QUIT:  # 如果單擊關閉視窗，則退出\n",
    "            sys.exit()\n",
    "    screen.fill(color)  # 填充顏色(設定為0，執不執行這行程式碼都一樣)\n",
    "    screen.blit(ball, ballrect)  # 將圖片畫到視窗上\n",
    "    pygame.display.flip()  # 更新全部顯示\n",
    "\n",
    "pygame.quit()  # 退出pygame"
   ]
  },
  {
   "cell_type": "code",
   "execution_count": 2,
   "metadata": {},
   "outputs": [
    {
     "ename": "SystemExit",
     "evalue": "",
     "output_type": "error",
     "traceback": [
      "An exception has occurred, use %tb to see the full traceback.\n",
      "\u001b[1;31mSystemExit\u001b[0m\n"
     ]
    }
   ],
   "source": [
    "import pygame\n",
    "import sys\n",
    "\n",
    "pygame.init()\n",
    "size = width,height = 320 ,240\n",
    "screen = pygame.display.set_mode(size)\n",
    "color = (10,10,10)\n",
    "\n",
    "while True: # dead loop make sure window keep open\n",
    "    for event in pygame.event.get(): # run through all event\n",
    "        if event.type == pygame.QUIT:\n",
    "            sys.exit()\n",
    "            \n",
    "pygame.quit()"
   ]
  },
  {
   "cell_type": "code",
   "execution_count": null,
   "metadata": {},
   "outputs": [],
   "source": []
  }
 ],
 "metadata": {
  "kernelspec": {
   "display_name": "Python 3",
   "language": "python",
   "name": "python3"
  },
  "language_info": {
   "codemirror_mode": {
    "name": "ipython",
    "version": 3
   },
   "file_extension": ".py",
   "mimetype": "text/x-python",
   "name": "python",
   "nbconvert_exporter": "python",
   "pygments_lexer": "ipython3",
   "version": "3.7.3"
  }
 },
 "nbformat": 4,
 "nbformat_minor": 2
}
