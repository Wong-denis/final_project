{
 "cells": [
  {
   "cell_type": "code",
   "execution_count": 1,
   "metadata": {},
   "outputs": [],
   "source": [
    "#-------------------------------------------------------------------------\n",
    "# 畫Box.\n",
    "#-------------------------------------------------------------------------\n",
    "class Box(object):\n",
    "    #-------------------------------------------------------------------------\n",
    "    # 建構式.\n",
    "    #   pygame    : pygame.\n",
    "    #   canvas    : 畫佈.\n",
    "    #   name    : 物件名稱.\n",
    "    #   rect      : 位置、大小.\n",
    "    #   color     : 顏色.\n",
    "    #-------------------------------------------------------------------------\n",
    "    def __init__( self, pygame, canvas, name, rect, color):\n",
    "        self.pygame = pygame\n",
    "        self.canvas = canvas\n",
    "        self.name = name\n",
    "        self.rect = rect\n",
    "        self.color = color\n",
    " \n",
    "        self.visivle = True\n",
    "        \n",
    "    #-------------------------------------------------------------------------\n",
    "    # 更新.\n",
    "    #-------------------------------------------------------------------------\n",
    "    def update(self):\n",
    "        if(self.visivle):\n",
    "            self.pygame.draw.rect( self.canvas, self.color, self.rect)\n",
    " \n",
    "#-------------------------------------------------------------------------\n",
    "# 畫圓.\n",
    "#-------------------------------------------------------------------------\n",
    "class Circle(object):\n",
    "    #-------------------------------------------------------------------------\n",
    "    # 建構式.\n",
    "    #   pygame  : pygame.\n",
    "    #   canvas  : 畫佈.\n",
    "    #   name    : 物件名稱.\n",
    "    #   pos     : 位置.  \n",
    "    #   radius  : 大小.\n",
    "    #   color   : 顏色.    \n",
    "    #-------------------------------------------------------------------------\n",
    "    def __init__( self, pygame, canvas, name, pos, radius, color):\n",
    "        self.pygame = pygame\n",
    "        self.canvas = canvas\n",
    "        self.name = name\n",
    "        self.pos = pos\n",
    "        self.radius = radius\n",
    "        self.color = color\n",
    "        \n",
    "        self.visivle = True\n",
    " \n",
    "    #-------------------------------------------------------------------------\n",
    "    # 更新.\n",
    "    #-------------------------------------------------------------------------\n",
    "    def update(self):\n",
    "        if(self.visivle):\n",
    "            self.pygame.draw.circle( self.canvas, self.color, self.pos , self.radius)\n"
   ]
  },
  {
   "cell_type": "code",
   "execution_count": 4,
   "metadata": {},
   "outputs": [
    {
     "name": "stderr",
     "output_type": "stream",
     "text": [
      "[NbConvertApp] Converting notebook drew.ipynb to script\n",
      "[NbConvertApp] Writing 2177 bytes to drew.py\n"
     ]
    }
   ],
   "source": [
    "!jupyter nbconvert --to script drew.ipynb"
   ]
  },
  {
   "cell_type": "code",
   "execution_count": null,
   "metadata": {},
   "outputs": [],
   "source": []
  }
 ],
 "metadata": {
  "kernelspec": {
   "display_name": "Python 3",
   "language": "python",
   "name": "python3"
  },
  "language_info": {
   "codemirror_mode": {
    "name": "ipython",
    "version": 3
   },
   "file_extension": ".py",
   "mimetype": "text/x-python",
   "name": "python",
   "nbconvert_exporter": "python",
   "pygments_lexer": "ipython3",
   "version": "3.7.3"
  }
 },
 "nbformat": 4,
 "nbformat_minor": 2
}
